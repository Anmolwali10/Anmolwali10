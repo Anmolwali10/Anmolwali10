{
  "nbformat": 4,
  "nbformat_minor": 0,
  "metadata": {
    "colab": {
      "provenance": []
    },
    "kernelspec": {
      "name": "python3",
      "display_name": "Python 3"
    },
    "language_info": {
      "name": "python"
    }
  },
  "cells": [
    {
      "cell_type": "code",
      "execution_count": 3,
      "metadata": {
        "colab": {
          "base_uri": "https://localhost:8080/"
        },
        "id": "qq_lI4tqjJ3B",
        "outputId": "049d1798-f587-40f3-af69-5f0edd1883a7"
      },
      "outputs": [
        {
          "output_type": "stream",
          "name": "stdout",
          "text": [
            "Original List: [4, 8, 2, 10, 15, 18]\n",
            "After Cloning: [4, 8, 2, 10, 15, 18]\n"
          ]
        }
      ],
      "source": [
        "# Python program to copy or clone a list\n",
        "# Using the Slice Operator\n",
        "def cloning(li1):\n",
        "  li2= li1[:]\n",
        "  return li2\n",
        "\n",
        "\n",
        "# Driver Code\n",
        "li1 = [4, 8, 2, 10, 15, 18]\n",
        "li2 = cloning(li1)\n",
        "print(\"Original List:\", li1)\n",
        "print(\"After Cloning:\", li2)\n"
      ]
    },
    {
      "cell_type": "code",
      "source": [
        "# Python code to clone or copy a list\n",
        "# Using the in-built function extend()\n",
        "\n",
        "\n",
        "def Cloning(li1):\n",
        "  li2_copy=[]\n",
        "  li2_copy.extend(li1)\n",
        "  return li2_copy\n",
        "\n",
        "\n",
        "# Driver Code\n",
        "li1 = [4, 8, 2, 10, 15, 18]\n",
        "li2 = Cloning(li1)\n",
        "print(\"Original List:\", li1)\n",
        "print(\"After Cloning:\", li2)"
      ],
      "metadata": {
        "colab": {
          "base_uri": "https://localhost:8080/"
        },
        "id": "nxHRbs8jj57M",
        "outputId": "68a87bf4-60d0-4563-f835-496ac28090c2"
      },
      "execution_count": 12,
      "outputs": [
        {
          "output_type": "stream",
          "name": "stdout",
          "text": [
            "Original List: [4, 8, 2, 10, 15, 18]\n",
            "After Cloning: [4, 8, 2, 10, 15, 18]\n"
          ]
        }
      ]
    },
    {
      "cell_type": "code",
      "source": [
        "# importing copy module\n",
        "import copy\n",
        "\n",
        "# initializing list 1\n",
        "li1 = [1, 2, [3,5], 4]\n",
        "\n",
        "# using copy for shallow copy\n",
        "li2 = copy.copy(li1)\n",
        "\n",
        "print(li2)\n",
        "\n"
      ],
      "metadata": {
        "id": "pbXCHV-Ynrxi"
      },
      "execution_count": null,
      "outputs": []
    },
    {
      "cell_type": "code",
      "source": [
        "# Python code to clone or copy a list\n",
        "# Using list comprehension\n",
        "def Cloning(li1):\n",
        "  li_copy = [i for i in li1]\n",
        "  return li_copy\n",
        "\n",
        "# Driver Code\n",
        "li1 = [4, 8, 2, 10, 15, 18]\n",
        "li2 = Cloning(li1)\n",
        "print(\"Original List:\", li1)\n",
        "print(\"After Cloning:\", li2)\n"
      ],
      "metadata": {
        "id": "ub6ldysip0yK"
      },
      "execution_count": null,
      "outputs": []
    },
    {
      "cell_type": "code",
      "source": [
        "# Python code to clone or copy a list\n",
        "# Using append()\n",
        "def Cloning(li1):\n",
        "\tli_copy =[]\n",
        "\tfor item in li1: li_copy.append(item)\n",
        "\treturn li_copy\n",
        "\n",
        "# Driver Code\n",
        "li1 = [4, 8, 2, 10, 15, 18]\n",
        "li2 = Cloning(li1)\n",
        "print(\"Original List:\", li1)\n",
        "print(\"After Cloning:\", li2)\n"
      ],
      "metadata": {
        "id": "h79uvWCpsEb6"
      },
      "execution_count": null,
      "outputs": []
    }
  ]
}