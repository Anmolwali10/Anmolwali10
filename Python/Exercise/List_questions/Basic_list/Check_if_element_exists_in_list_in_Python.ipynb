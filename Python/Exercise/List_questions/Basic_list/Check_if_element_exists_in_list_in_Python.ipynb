{
  "nbformat": 4,
  "nbformat_minor": 0,
  "metadata": {
    "colab": {
      "provenance": []
    },
    "kernelspec": {
      "name": "python3",
      "display_name": "Python 3"
    },
    "language_info": {
      "name": "python"
    }
  },
  "cells": [
    {
      "cell_type": "code",
      "execution_count": 8,
      "metadata": {
        "colab": {
          "base_uri": "https://localhost:8080/"
        },
        "id": "_Gwo2tUhSOWJ",
        "outputId": "d0f85c16-7238-474b-cbaa-b840f1b0948f"
      },
      "outputs": [
        {
          "output_type": "execute_result",
          "data": {
            "text/plain": [
              "False"
            ]
          },
          "metadata": {},
          "execution_count": 8
        }
      ],
      "source": [
        "# Initializing list\n",
        "test_list = [1, 6, 3, 5, 3, 4]\n",
        "Z= 9\n",
        "\n",
        "result = any(Z == item for item in test_list)\n",
        "result\n"
      ]
    },
    {
      "cell_type": "code",
      "source": [
        "test_list = [1, 6, 3, 5, 3, 4]\n",
        "z= 2\n",
        "def check_item_in_list(test_list):\n",
        "  for i in test_list:\n",
        "    if i == z:\n",
        "      return True\n",
        "  return False\n",
        "\n",
        "check_item_in_list(test_list)\n",
        ""
      ],
      "metadata": {
        "colab": {
          "base_uri": "https://localhost:8080/"
        },
        "id": "WFAMiMF8ZeNf",
        "outputId": "e3d180ba-07ab-481b-f688-ef4478cb25f4"
      },
      "execution_count": 1,
      "outputs": [
        {
          "output_type": "execute_result",
          "data": {
            "text/plain": [
              "False"
            ]
          },
          "metadata": {},
          "execution_count": 1
        }
      ]
    },
    {
      "cell_type": "code",
      "source": [
        "# Initializing list\n",
        "test_list = [10, 15, 20, 7, 46, 2808]\n",
        "\n",
        "print(\"Checking if 15 exists in list\")\n",
        "\n",
        "# number of times element exists in list\n",
        "exist_count = test_list.count(15)\n",
        "\n",
        "# checking if it is more than 0\n",
        "if exist_count > 0:\n",
        "\tprint(\"Yes, 15 exists in list\")\n",
        "else:\n",
        "\tprint(\"No, 15 does not exists in list\")\n"
      ],
      "metadata": {
        "id": "l21aHXEDRrbT"
      },
      "execution_count": null,
      "outputs": []
    }
  ]
}