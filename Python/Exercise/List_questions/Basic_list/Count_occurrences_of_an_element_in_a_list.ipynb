{
  "nbformat": 4,
  "nbformat_minor": 0,
  "metadata": {
    "colab": {
      "provenance": []
    },
    "kernelspec": {
      "name": "python3",
      "display_name": "Python 3"
    },
    "language_info": {
      "name": "python"
    }
  },
  "cells": [
    {
      "cell_type": "code",
      "execution_count": null,
      "metadata": {
        "id": "dwDMvLFQ1j3F"
      },
      "outputs": [],
      "source": [
        "# Python code to count the number of occurrences\n",
        "def countX(lst, x):\n",
        "\tcount = 0\n",
        "\tfor ele in lst:\n",
        "\t\tif (ele == x):\n",
        "\t\t\tcount = count + 1\n",
        "\treturn count\n",
        "\n",
        "\n",
        "# Driver Code\n",
        "lst = [8, 6, 8, 10, 8, 20, 10, 8, 8]\n",
        "x = 8\n",
        "print('{} has occurred {} times'.format(x,\n",
        "\t\t\t\t\t\t\t\t\t\tcountX(lst, x)))\n"
      ]
    },
    {
      "cell_type": "code",
      "source": [
        "l = [1, 1, 2, 2, 2, 3, 3, 4, 4, 5, 5]\n",
        "ele=1\n",
        "x=[i for i in l if i==ele]\n",
        "print(\"the element\",ele,\"occurs\",len(x),\"times\")\n"
      ],
      "metadata": {
        "id": "IsIX0ZtX1stb"
      },
      "execution_count": null,
      "outputs": []
    },
    {
      "cell_type": "code",
      "source": [
        "# Python code to count the number of occurrences\n",
        "def countX(lst, x):\n",
        "\treturn lst.count(x)\n",
        "\n",
        "\n",
        "# Driver Code\n",
        "lst = [8, 6, 8, 10, 8, 20, 10, 8, 8]\n",
        "x = 8\n",
        "print('{} has occurred {} times'.format(x,\n",
        "\t\t\t\t\t\t\t\t\t\tcountX(lst, x)))\n"
      ],
      "metadata": {
        "id": "JBOeHHOJ2CP8"
      },
      "execution_count": null,
      "outputs": []
    },
    {
      "cell_type": "code",
      "source": [
        "from collections import Counter\n",
        "\n",
        "# declaring the list\n",
        "l = [1, 1, 2, 2, 3, 3, 4, 4, 5, 5]\n",
        "\n",
        "# driver program\n",
        "x = 3\n",
        "d = Counter(l)\n",
        "print('{} has occurred {} times'.format(x, d[x]))\n"
      ],
      "metadata": {
        "id": "LvWTUaj-2EL-"
      },
      "execution_count": null,
      "outputs": []
    },
    {
      "cell_type": "code",
      "source": [
        "lis = ['a', 'd', 'd', 'c', 'a', 'b', 'b', 'a', 'c', 'd', 'e']\n",
        "occurrence = {item: lis.count(item) for item in lis}\n",
        "print(occurrence.get('e'))\n"
      ],
      "metadata": {
        "id": "HnkSIwgI2FZ2"
      },
      "execution_count": null,
      "outputs": []
    }
  ]
}