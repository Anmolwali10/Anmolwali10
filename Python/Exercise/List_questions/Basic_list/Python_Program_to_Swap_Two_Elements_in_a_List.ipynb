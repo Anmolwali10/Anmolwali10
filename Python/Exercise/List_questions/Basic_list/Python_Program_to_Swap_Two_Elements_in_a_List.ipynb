{
  "nbformat": 4,
  "nbformat_minor": 0,
  "metadata": {
    "colab": {
      "provenance": []
    },
    "kernelspec": {
      "name": "python3",
      "display_name": "Python 3"
    },
    "language_info": {
      "name": "python"
    }
  },
  "cells": [
    {
      "cell_type": "code",
      "execution_count": 42,
      "metadata": {
        "colab": {
          "base_uri": "https://localhost:8080/",
          "height": 70
        },
        "id": "-1Vc0Ux1vk2V",
        "outputId": "82ec5da6-7179-451b-dbf7-9c877b939ebe"
      },
      "outputs": [
        {
          "name": "stdout",
          "output_type": "stream",
          "text": [
            "enter the first index to swap 1\n",
            "enter the second index to swap 9\n"
          ]
        },
        {
          "output_type": "execute_result",
          "data": {
            "text/plain": [
              "'Wrong index at 9 Position'"
            ],
            "application/vnd.google.colaboratory.intrinsic+json": {
              "type": "string"
            }
          },
          "metadata": {},
          "execution_count": 42
        }
      ],
      "source": [
        "def swap(new_list,pos1,pos2):\n",
        "\n",
        "  if (pos1 >= 0 and pos1 < len(new_list)) and (pos2 >= 0 and pos2 < len(new_list)):\n",
        "      temp = new_list[pos1]\n",
        "      new_list[pos1] = new_list[pos2]\n",
        "      new_list[pos2] = temp\n",
        "      return new_list\n",
        "  if (pos1 <= 0 or pos1 > len(new_list)):\n",
        "    return \"Wrong index at \" + str(pos1) +\" \"+ 'Position'\n",
        "\n",
        "  if (pos2 <= 0 or pos2 > len(new_list)):\n",
        "    return \"Wrong index at \" + str(pos2) +\" \" + 'Position'\n",
        "\n",
        "\n",
        "\n",
        "\n",
        "\n",
        "new_list = [1,2,3,4,5,6]\n",
        "\n",
        "x = int(input('enter the first index to swap '))\n",
        "y = int(input('enter the second index to swap '))\n",
        "\n",
        "swap(new_list,x,y)\n",
        "\n",
        "\n",
        "\n",
        "\n",
        "swap(new_list,x,y)"
      ]
    },
    {
      "cell_type": "code",
      "source": [],
      "metadata": {
        "id": "jMkJpnVG1z0S"
      },
      "execution_count": null,
      "outputs": []
    },
    {
      "cell_type": "code",
      "source": [
        "def swap(new_list,pos1,pos2):\n",
        "  new_list[pos1],new_list[pos2] = new_list[pos2],new_list[pos1]\n",
        "\n",
        "  return new_list\n",
        "\n",
        "x = int(input('enter the first index to swap '))\n",
        "y = int(input('enter the second index to swap '))\n",
        "\n",
        "swap(new_list,x,y)"
      ],
      "metadata": {
        "colab": {
          "base_uri": "https://localhost:8080/"
        },
        "id": "bVzhRrtFzhSC",
        "outputId": "765c1eb0-9a94-4b22-a286-61acd830ee94"
      },
      "execution_count": 7,
      "outputs": [
        {
          "name": "stdout",
          "output_type": "stream",
          "text": [
            "enter the first index to swap 1\n",
            "enter the second index to swap 3\n"
          ]
        },
        {
          "output_type": "execute_result",
          "data": {
            "text/plain": [
              "[1, 4, 3, 2, 5, 6]"
            ]
          },
          "metadata": {},
          "execution_count": 7
        }
      ]
    },
    {
      "cell_type": "code",
      "source": [
        "# Python3 program to swap elements\n",
        "# at given positions\n",
        "\n",
        "# Swap function\n",
        "def swapPositions(list, pos1, pos2):\n",
        "\n",
        "\t# popping both the elements from list\n",
        "\tfirst_ele = list.pop(pos1)\n",
        "\tsecond_ele = list.pop(pos2-1)\n",
        "\n",
        "\t# inserting in each others positions\n",
        "\tlist.insert(pos1, second_ele)\n",
        "\tlist.insert(pos2, first_ele)\n",
        "\n",
        "\treturn list\n",
        "\n",
        "# Driver function\n",
        "List = [23, 65, 19, 90]\n",
        "pos1, pos2 = 1, 3\n",
        "\n",
        "print(swapPositions(List, pos1-1, pos2-1))\n"
      ],
      "metadata": {
        "colab": {
          "base_uri": "https://localhost:8080/"
        },
        "id": "JaMSN72D11Gx",
        "outputId": "b992dac6-4187-4e37-8f40-cfa333cb1b21"
      },
      "execution_count": 45,
      "outputs": [
        {
          "output_type": "stream",
          "name": "stdout",
          "text": [
            "[19, 65, 23, 90]\n"
          ]
        }
      ]
    }
  ]
}