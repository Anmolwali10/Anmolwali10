
# Find the length of the list and simply swap the first element with (n-1)th element.
def swap_list(new_List):

  temp = new_List[0]
  new_List[0] = new_List[len(new_List)-1]
  new_List[len(new_List)-1] = temp
  return new_List

new_List =[1,2,3,4,5]
swap_list(new_List)



#The last element of the list can be referred as list[-1]. Therefore, we can simply swap list[0] with list[-1].
# Swap function
def swapList(newList):

	newList[0], newList[-1] = newList[-1], newList[0]

	return newList

# Driver code
newList = [12, 35, 9, 56, 24]
print(swapList(newList))


# Python3 program to swap first
# and last element of a list



#This Python code demonstrates the usage of the * operand for unpacking iterables in Python:
# Swap function
def swapList(list):

	start, *middle, end = list
	list = [end, *middle, start]

	return list

# Driver code
newList = [12, 35, 9, 56, 24]

print(swapList(newList))
