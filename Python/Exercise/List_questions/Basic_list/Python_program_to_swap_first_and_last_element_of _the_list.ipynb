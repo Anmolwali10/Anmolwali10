# Find the length of the list and simply swap the first element with (n-1)th element.
def swap_list(new_List):

  temp = new_List[0]
  new_List[0] = new_List[len(new_List)-1]
  new_List[len(new_List)-1] = temp
  return new_List

new_List =[1,2,3,4,5]
swap_list(new_List)
