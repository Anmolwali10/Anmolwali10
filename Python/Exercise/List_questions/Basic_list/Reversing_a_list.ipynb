{
  "nbformat": 4,
  "nbformat_minor": 0,
  "metadata": {
    "colab": {
      "provenance": []
    },
    "kernelspec": {
      "name": "python3",
      "display_name": "Python 3"
    },
    "language_info": {
      "name": "python"
    }
  },
  "cells": [
    {
      "cell_type": "code",
      "execution_count": null,
      "metadata": {
        "id": "YTaOqC1fkur_"
      },
      "outputs": [],
      "source": [
        "# Reversing a list using slicing technique\n",
        "def Reverse(lst):\n",
        "new_lst = lst[::-1]\n",
        "return new_lst\n",
        "\n",
        "\n",
        "lst = [10, 11, 12, 13, 14, 15]\n",
        "print(Reverse(lst))\n"
      ]
    },
    {
      "cell_type": "code",
      "source": [
        "#Python program to reverse an array\n",
        "def list_reverse(arr,size):\n",
        "\n",
        "\t#if only one element present, then return the array\n",
        "\tif(size==1):\n",
        "\t\treturn arr\n",
        "\n",
        "\t#if only two elements present, then swap both the numbers.\n",
        "\telif(size==2):\n",
        "\t\tarr[0],arr[1],=arr[1],arr[0]\n",
        "\t\treturn arr\n",
        "\n",
        "\t#if more than two elements presents, then swap first and last numbers.\n",
        "\telse:\n",
        "\t\ti=0\n",
        "\t\twhile(i<size//2):\n",
        "\n",
        "\t#swap present and preceding numbers at time and jump to second element after swap\n",
        "\t\t\tarr[i],arr[size-i-1]=arr[size-i-1],arr[i]\n",
        "\n",
        "\t#skip if present and preceding numbers indexes are same\n",
        "\t\t\tif((i!=i+1 and size-i-1 != size-i-2) and (i!=size-i-2 and size-i-1!=i+1)):\n",
        "\t\t\t\tarr[i+1],arr[size-i-2]=arr[size-i-2],arr[i+1]\n",
        "\t\t\ti+=2\n",
        "\t\treturn arr\n",
        "\n",
        "arr=[1,2,3,4,5]\n",
        "size=5\n",
        "print('Original list: ',arr)\n",
        "print(\"Reversed list: \",list_reverse(arr,size))\n",
        "\n",
        "#This contributed by SR.Dhanush\n"
      ],
      "metadata": {
        "id": "0UZtvFeyllNd"
      },
      "execution_count": null,
      "outputs": []
    },
    {
      "cell_type": "code",
      "source": [
        "lst = [10, 11, 12, 13, 14, 15]\n",
        "lst.reverse()\n",
        "print(\"Using reverse() \", lst)\n",
        "\n",
        "print(\"Using reversed() \", list(reversed(lst)))\n",
        "\n"
      ],
      "metadata": {
        "id": "qM1EIWTwlqsi"
      },
      "execution_count": null,
      "outputs": []
    },
    {
      "cell_type": "code",
      "source": [
        "# input list\n",
        "lst = [10, 11, 12, 13, 14, 15]\n",
        "# the above input can also be given as\n",
        "# lst=list(map(int,input().split()))\n",
        "l = [] # empty list\n",
        "\n",
        "# iterate to reverse the list\n",
        "for i in lst:\n",
        "\t# reversing the list\n",
        "\tl.insert(0, i)\n",
        "# printing result\n",
        "print(l)\n"
      ],
      "metadata": {
        "id": "xY0HTGLAlwQm"
      },
      "execution_count": null,
      "outputs": []
    },
    {
      "cell_type": "code",
      "source": [
        "original_list = [10, 11, 12, 13, 14, 15]\n",
        "new_list = [original_list[len(original_list) - i]\n",
        "\t\t\tfor i in range(1, len(original_list)+1)]\n",
        "print(new_list)\n"
      ],
      "metadata": {
        "id": "0D8xfzial5Ae"
      },
      "execution_count": null,
      "outputs": []
    },
    {
      "cell_type": "code",
      "source": [
        "# Reversing a list using two-pointer approach\n",
        "def reverse_list(arr):\n",
        "\tleft = 0\n",
        "\tright = len(arr)-1\n",
        "\twhile (left < right):\n",
        "\t\t# Swap\n",
        "\t\ttemp = arr[left]\n",
        "\t\tarr[left] = arr[right]\n",
        "\t\tarr[right] = temp\n",
        "\t\tleft += 1\n",
        "\t\tright -= 1\n",
        "\n",
        "\treturn arr\n",
        "\n",
        "arr = [1, 2, 3, 4, 5, 6, 7]\n",
        "print(reverse_list(arr))\n"
      ],
      "metadata": {
        "id": "E4vS1gIll-SO"
      },
      "execution_count": null,
      "outputs": []
    }
  ]
}