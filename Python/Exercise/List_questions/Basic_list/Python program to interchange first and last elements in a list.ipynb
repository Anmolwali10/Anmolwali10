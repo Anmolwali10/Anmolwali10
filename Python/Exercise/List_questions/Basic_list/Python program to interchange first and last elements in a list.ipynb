{
  "nbformat": 4,
  "nbformat_minor": 0,
  "metadata": {
    "colab": {
      "provenance": []
    },
    "kernelspec": {
      "name": "python3",
      "display_name": "Python 3"
    },
    "language_info": {
      "name": "python"
    }
  },
  "cells": [
    {
      "cell_type": "code",
      "execution_count": 3,
      "metadata": {
        "colab": {
          "base_uri": "https://localhost:8080/"
        },
        "id": "plun_-gAxhTt",
        "outputId": "be9ae000-9864-4591-dfcd-e5f7d5ec3c2e"
      },
      "outputs": [
        {
          "output_type": "stream",
          "name": "stdout",
          "text": [
            "[24, 35, 9, 56, 12]\n",
            "[24, 35, 9, 56, 12]\n"
          ]
        }
      ],
      "source": [
        "# Find the length of the list and simply swap the first element with (n-1)th element.\n",
        "def swap_list(new_List):\n",
        "\n",
        "  temp = new_List[0]\n",
        "  new_List[0] = new_List[len(new_List)-1]\n",
        "  new_List[len(new_List)-1] = temp\n",
        "  return new_List\n",
        "\n",
        "new_List =[1,2,3,4,5]\n",
        "swap_list(new_List)\n",
        "\n",
        "\n",
        "\n",
        "#The last element of the list can be referred as list[-1]. Therefore, we can simply swap list[0] with list[-1].\n",
        "# Swap function\n",
        "def swapList(newList):\n",
        "\n",
        "\tnewList[0], newList[-1] = newList[-1], newList[0]\n",
        "\n",
        "\treturn newList\n",
        "\n",
        "# Driver code\n",
        "newList = [12, 35, 9, 56, 24]\n",
        "print(swapList(newList))\n",
        "\n",
        "\n",
        "# Python3 program to swap first\n",
        "# and last element of a list\n",
        "\n",
        "\n",
        "\n",
        "#This Python code demonstrates the usage of the * operand for unpacking iterables in Python:\n",
        "# Swap function\n",
        "def swapList(list):\n",
        "\n",
        "\tstart, *middle, end = list\n",
        "\tlist = [end, *middle, start]\n",
        "\n",
        "\treturn list\n",
        "\n",
        "# Driver code\n",
        "newList = [12, 35, 9, 56, 24]\n",
        "\n",
        "print(swapList(newList))\n"
      ]
    },
    {
      "cell_type": "code",
      "source": [],
      "metadata": {
        "id": "PsjbACCDByHA"
      },
      "execution_count": null,
      "outputs": []
    },
    {
      "cell_type": "code",
      "source": [],
      "metadata": {
        "id": "L-VjoFSVBt1L"
      },
      "execution_count": null,
      "outputs": []
    }
  ]
}