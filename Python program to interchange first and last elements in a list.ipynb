{
  "nbformat": 4,
  "nbformat_minor": 0,
  "metadata": {
    "colab": {
      "provenance": [],
      "authorship_tag": "ABX9TyN/leKVK1lgR1x7vT+iXFVS",
      "include_colab_link": true
    },
    "kernelspec": {
      "name": "python3",
      "display_name": "Python 3"
    },
    "language_info": {
      "name": "python"
    }
  },
  "cells": [
    {
      "cell_type": "markdown",
      "metadata": {
        "id": "view-in-github",
        "colab_type": "text"
      },
      "source": [
        "<a href=\"https://colab.research.google.com/github/Anmolwali10/Anmolwali10/blob/main/Python%20program%20to%20interchange%20first%20and%20last%20elements%20in%20a%20list.ipynb\" target=\"_parent\"><img src=\"https://colab.research.google.com/assets/colab-badge.svg\" alt=\"Open In Colab\"/></a>"
      ]
    },
    {
      "cell_type": "code",
      "execution_count": 2,
      "metadata": {
        "colab": {
          "base_uri": "https://localhost:8080/"
        },
        "id": "plun_-gAxhTt",
        "outputId": "82641a1f-dd92-488d-df5b-b9ea1408db81"
      },
      "outputs": [
        {
          "output_type": "execute_result",
          "data": {
            "text/plain": [
              "[5, 2, 3, 4, 1]"
            ]
          },
          "metadata": {},
          "execution_count": 2
        }
      ],
      "source": [
        "# Find the length of the list and simply swap the first element with (n-1)th element.\n",
        "def swap_list(new_List):\n",
        "\n",
        "  temp = new_List[0]\n",
        "  new_List[0] = new_List[len(new_List)-1]\n",
        "  new_List[len(new_List)-1] = temp\n",
        "  return new_List\n",
        "\n",
        "new_List =[1,2,3,4,5]\n",
        "swap_list(new_List)\n",
        "\n",
        "\n",
        "\n",
        "#The last element of the list can be referred as list[-1]. Therefore, we can simply swap list[0] with list[-1].\n",
        "# Swap function\n",
        "def swapList(newList):\n",
        "\n",
        "\tnewList[0], newList[-1] = newList[-1], newList[0]\n",
        "\n",
        "\treturn newList\n",
        "\n",
        "# Driver code\n",
        "newList = [12, 35, 9, 56, 24]\n",
        "print(swapList(newList))\n",
        "\n",
        "\n",
        "# Python3 program to swap first\n",
        "# and last element of a list\n",
        "\n",
        "\n",
        "\n",
        "#This Python code demonstrates the usage of the * operand for unpacking iterables in Python:\n",
        "# Swap function\n",
        "def swapList(list):\n",
        "\n",
        "\tstart, *middle, end = list\n",
        "\tlist = [end, *middle, start]\n",
        "\n",
        "\treturn list\n",
        "\n",
        "# Driver code\n",
        "newList = [12, 35, 9, 56, 24]\n",
        "\n",
        "print(swapList(newList))\n"
      ]
    }
  ]
}